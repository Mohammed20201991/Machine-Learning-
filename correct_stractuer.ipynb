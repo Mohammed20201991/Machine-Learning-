{
 "cells": [
  {
   "cell_type": "markdown",
   "metadata": {
    "id": "vR0con3OuFBM"
   },
   "source": [
    "## 0. Import libraries\n",
    "Import all libraries/packages t, but **for the network only PyTorch can be used.**"
   ]
  },
  {
   "cell_type": "code",
   "execution_count": null,
   "metadata": {
    "id": "lyGWby4VpNMC"
   },
   "outputs": [],
   "source": [
    "# CODE HERE"
   ]
  },
  {
   "cell_type": "markdown",
   "metadata": {
    "id": "o1tucmxFuklk"
   },
   "source": [
    "## 1. Dataset \n",
    "Loading and sipliting the  the dataset ."
   ]
  },
  {
   "cell_type": "markdown",
   "metadata": {
    "id": "ossmpkq9vfrL"
   },
   "source": [
    "#### Loading the dataset\n",
    "Show some images and labels of your dataset"
   ]
  },
  {
   "cell_type": "code",
   "execution_count": null,
   "metadata": {
    "id": "5ng7Hn_gul3J"
   },
   "outputs": [],
   "source": [
    "#  CODE HERE"
   ]
  },
  {
   "cell_type": "markdown",
   "metadata": {
    "id": "bmC8EUVFv0rj"
   },
   "source": [
    "#### Splitting the dataset"
   ]
  },
  {
   "cell_type": "code",
   "execution_count": null,
   "metadata": {
    "id": "_uMNfQ7sv46r"
   },
   "outputs": [],
   "source": [
    "#  CODE HERE"
   ]
  },
  {
   "cell_type": "markdown",
   "metadata": {
    "id": "GzvWV5SFv4Ml"
   },
   "source": [
    "#### Pre-processing the dataset"
   ]
  },
  {
   "cell_type": "code",
   "execution_count": null,
   "metadata": {
    "id": "V4G98dyQv20o"
   },
   "outputs": [],
   "source": [
    "#  CODE HERE"
   ]
  },
  {
   "cell_type": "markdown",
   "metadata": {
    "id": "XG9jrKpRw-xN"
   },
   "source": [
    "## 2. Convolutional Neural Network Architecture\n",
    "1 -Loading  the CNN architecture(vgg16)  were given using pretrained weights. 2 -Define the optimizer and loss function. Train your network and save it. lastly i wanna to use  Early stopping to  show results with Tensorboard."
   ]
  },
  {
   "cell_type": "markdown",
   "metadata": {
    "id": "5sgTC3NxxxRx"
   },
   "source": [
    "#### Load the architecture"
   ]
  },
  {
   "cell_type": "code",
   "execution_count": null,
   "metadata": {
    "id": "GAmr4k_Rx3QF"
   },
   "outputs": [],
   "source": [
    "#  CODE HERE"
   ]
  },
  {
   "cell_type": "markdown",
   "metadata": {
    "id": "QDmjzUaax3lH"
   },
   "source": [
    "####  optimizer and loss function"
   ]
  },
  {
   "cell_type": "code",
   "execution_count": null,
   "metadata": {
    "id": "QXzld7Pwx8Md"
   },
   "outputs": [],
   "source": [
    "#  CODE HERE"
   ]
  },
  {
   "cell_type": "markdown",
   "metadata": {
    "id": "DbYtFGbXx7iP"
   },
   "source": [
    "#### Train  network"
   ]
  },
  {
   "cell_type": "code",
   "execution_count": null,
   "metadata": {
    "id": "cRpJtn_zxDTG"
   },
   "outputs": [],
   "source": [
    "#  CODE HERE"
   ]
  },
  {
   "cell_type": "markdown",
   "metadata": {
    "id": "-Vyv_TOryBnE"
   },
   "source": [
    "#### Show results (accuracy and loss) on training and validation sets"
   ]
  },
  {
   "cell_type": "code",
   "execution_count": null,
   "metadata": {
    "id": "g_iK_hs8yHQ7"
   },
   "outputs": [],
   "source": [
    "#  CODE HERE"
   ]
  },
  {
   "cell_type": "markdown",
   "metadata": {
    "id": "-wL-oYMJyKAU"
   },
   "source": [
    "## 3. Conclusion (Evaluation)\n",
    "Loading your trained CNN and evaluate it on the test set. I want to show some  predictions on the test set (3 is enough) by ploting the image and printing the prediction and ground truth.\n"
   ]
  },
  {
   "cell_type": "markdown",
   "metadata": {
    "id": "91bFm41IzLMr"
   },
   "source": [
    "#### Evaluate your model"
   ]
  },
  {
   "cell_type": "code",
   "execution_count": null,
   "metadata": {
    "id": "urDwdgZUyMZQ"
   },
   "outputs": [],
   "source": [
    "#  CODE HERE"
   ]
  },
  {
   "cell_type": "markdown",
   "metadata": {
    "id": "ZYwVBU9LzOHN"
   },
   "source": [
    "#### Show some predictions"
   ]
  },
  {
   "cell_type": "code",
   "execution_count": null,
   "metadata": {
    "id": "jNV0J9LKzPse"
   },
   "outputs": [],
   "source": [
    "# CODE HERE"
   ]
  }
 ],
 "metadata": {
  "colab": {
   "collapsed_sections": [],
   "name": "SAML Assignment 1",
   "provenance": []
  },
  "kernelspec": {
   "display_name": "Python 3 (ipykernel)",
   "language": "python",
   "name": "python3"
  },
  "language_info": {
   "codemirror_mode": {
    "name": "ipython",
    "version": 3
   },
   "file_extension": ".py",
   "mimetype": "text/x-python",
   "name": "python",
   "nbconvert_exporter": "python",
   "pygments_lexer": "ipython3",
   "version": "3.9.7"
  }
 },
 "nbformat": 4,
 "nbformat_minor": 1
}
